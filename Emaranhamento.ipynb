{
  "nbformat": 4,
  "nbformat_minor": 0,
  "metadata": {
    "colab": {
      "provenance": []
    },
    "kernelspec": {
      "name": "python3",
      "display_name": "Python 3"
    },
    "language_info": {
      "name": "python"
    }
  },
  "cells": [
    {
      "cell_type": "markdown",
      "source": [
        "## Implementação Qiskit\n"
      ],
      "metadata": {
        "id": "jUBGivqGl0rY"
      }
    },
    {
      "cell_type": "code",
      "source": [
        "#Required imports\n",
        "\n",
        "from qiskit import QuantumCircuit, QuantumRegister, Cl\n",
        "from qiskit_aer import AerSimulator\n",
        "from qiskit.visualization import plot_histogram\n",
        "from qiskit.result import marginal_distribution\n",
        "from qiskit.circuit.library import UGate\n",
        "from numpy import pi, random"
      ],
      "metadata": {
        "colab": {
          "base_uri": "https://localhost:8080/",
          "height": 383
        },
        "id": "a2i7sqCnmDYQ",
        "outputId": "caa6d0bf-3d1c-4dfd-bff8-b6fd06618899"
      },
      "execution_count": 1,
      "outputs": [
        {
          "output_type": "error",
          "ename": "ModuleNotFoundError",
          "evalue": "No module named 'qiskit'",
          "traceback": [
            "\u001b[0;31m---------------------------------------------------------------------------\u001b[0m",
            "\u001b[0;31mModuleNotFoundError\u001b[0m                       Traceback (most recent call last)",
            "\u001b[0;32m<ipython-input-1-b1d0a07d221f>\u001b[0m in \u001b[0;36m<cell line: 3>\u001b[0;34m()\u001b[0m\n\u001b[1;32m      1\u001b[0m \u001b[0;31m#Required imports\u001b[0m\u001b[0;34m\u001b[0m\u001b[0;34m\u001b[0m\u001b[0m\n\u001b[1;32m      2\u001b[0m \u001b[0;34m\u001b[0m\u001b[0m\n\u001b[0;32m----> 3\u001b[0;31m \u001b[0;32mfrom\u001b[0m \u001b[0mqiskit\u001b[0m \u001b[0;32mimport\u001b[0m \u001b[0mQuantumCircuit\u001b[0m\u001b[0;34m,\u001b[0m \u001b[0mQuantumRegister\u001b[0m\u001b[0;34m,\u001b[0m \u001b[0mCl\u001b[0m\u001b[0;34m\u001b[0m\u001b[0;34m\u001b[0m\u001b[0m\n\u001b[0m\u001b[1;32m      4\u001b[0m \u001b[0;32mfrom\u001b[0m \u001b[0mqiskit_aer\u001b[0m \u001b[0;32mimport\u001b[0m \u001b[0mAerSimulator\u001b[0m\u001b[0;34m\u001b[0m\u001b[0;34m\u001b[0m\u001b[0m\n\u001b[1;32m      5\u001b[0m \u001b[0;32mfrom\u001b[0m \u001b[0mqiskit\u001b[0m\u001b[0;34m.\u001b[0m\u001b[0mvisualization\u001b[0m \u001b[0;32mimport\u001b[0m \u001b[0mplot_histogram\u001b[0m\u001b[0;34m\u001b[0m\u001b[0;34m\u001b[0m\u001b[0m\n",
            "\u001b[0;31mModuleNotFoundError\u001b[0m: No module named 'qiskit'",
            "",
            "\u001b[0;31m---------------------------------------------------------------------------\u001b[0;32m\nNOTE: If your import is failing due to a missing package, you can\nmanually install dependencies using either !pip or !apt.\n\nTo view examples of installing some common dependencies, click the\n\"Open Examples\" button below.\n\u001b[0;31m---------------------------------------------------------------------------\u001b[0m\n"
          ],
          "errorDetails": {
            "actions": [
              {
                "action": "open_url",
                "actionText": "Open Examples",
                "url": "/notebooks/snippets/importing_libraries.ipynb"
              }
            ]
          }
        }
      ]
    },
    {
      "cell_type": "code",
      "source": [
        "!pip install qiskit"
      ],
      "metadata": {
        "colab": {
          "base_uri": "https://localhost:8080/"
        },
        "id": "zu7VNpuioPCW",
        "outputId": "dee6bf4f-42ae-465b-a788-2729f2bef35d"
      },
      "execution_count": 2,
      "outputs": [
        {
          "output_type": "stream",
          "name": "stdout",
          "text": [
            "Collecting qiskit\n",
            "  Downloading qiskit-1.3.0-cp39-abi3-manylinux_2_17_x86_64.manylinux2014_x86_64.whl.metadata (12 kB)\n",
            "Collecting rustworkx>=0.15.0 (from qiskit)\n",
            "  Downloading rustworkx-0.15.1-cp38-abi3-manylinux_2_17_x86_64.manylinux2014_x86_64.whl.metadata (9.9 kB)\n",
            "Requirement already satisfied: numpy<3,>=1.17 in /usr/local/lib/python3.10/dist-packages (from qiskit) (1.26.4)\n",
            "Requirement already satisfied: scipy>=1.5 in /usr/local/lib/python3.10/dist-packages (from qiskit) (1.13.1)\n",
            "Requirement already satisfied: sympy>=1.3 in /usr/local/lib/python3.10/dist-packages (from qiskit) (1.13.1)\n",
            "Collecting dill>=0.3 (from qiskit)\n",
            "  Downloading dill-0.3.9-py3-none-any.whl.metadata (10 kB)\n",
            "Requirement already satisfied: python-dateutil>=2.8.0 in /usr/local/lib/python3.10/dist-packages (from qiskit) (2.8.2)\n",
            "Collecting stevedore>=3.0.0 (from qiskit)\n",
            "  Downloading stevedore-5.4.0-py3-none-any.whl.metadata (2.3 kB)\n",
            "Requirement already satisfied: typing-extensions in /usr/local/lib/python3.10/dist-packages (from qiskit) (4.12.2)\n",
            "Collecting symengine<0.14,>=0.11 (from qiskit)\n",
            "  Downloading symengine-0.13.0-cp310-cp310-manylinux_2_17_x86_64.manylinux2014_x86_64.whl.metadata (1.2 kB)\n",
            "Requirement already satisfied: six>=1.5 in /usr/local/lib/python3.10/dist-packages (from python-dateutil>=2.8.0->qiskit) (1.16.0)\n",
            "Collecting pbr>=2.0.0 (from stevedore>=3.0.0->qiskit)\n",
            "  Downloading pbr-6.1.0-py2.py3-none-any.whl.metadata (3.4 kB)\n",
            "Requirement already satisfied: mpmath<1.4,>=1.1.0 in /usr/local/lib/python3.10/dist-packages (from sympy>=1.3->qiskit) (1.3.0)\n",
            "Downloading qiskit-1.3.0-cp39-abi3-manylinux_2_17_x86_64.manylinux2014_x86_64.whl (6.7 MB)\n",
            "\u001b[2K   \u001b[90m━━━━━━━━━━━━━━━━━━━━━━━━━━━━━━━━━━━━━━━━\u001b[0m \u001b[32m6.7/6.7 MB\u001b[0m \u001b[31m35.4 MB/s\u001b[0m eta \u001b[36m0:00:00\u001b[0m\n",
            "\u001b[?25hDownloading dill-0.3.9-py3-none-any.whl (119 kB)\n",
            "\u001b[2K   \u001b[90m━━━━━━━━━━━━━━━━━━━━━━━━━━━━━━━━━━━━━━━━\u001b[0m \u001b[32m119.4/119.4 kB\u001b[0m \u001b[31m7.4 MB/s\u001b[0m eta \u001b[36m0:00:00\u001b[0m\n",
            "\u001b[?25hDownloading rustworkx-0.15.1-cp38-abi3-manylinux_2_17_x86_64.manylinux2014_x86_64.whl (2.0 MB)\n",
            "\u001b[2K   \u001b[90m━━━━━━━━━━━━━━━━━━━━━━━━━━━━━━━━━━━━━━━━\u001b[0m \u001b[32m2.0/2.0 MB\u001b[0m \u001b[31m22.3 MB/s\u001b[0m eta \u001b[36m0:00:00\u001b[0m\n",
            "\u001b[?25hDownloading stevedore-5.4.0-py3-none-any.whl (49 kB)\n",
            "\u001b[2K   \u001b[90m━━━━━━━━━━━━━━━━━━━━━━━━━━━━━━━━━━━━━━━━\u001b[0m \u001b[32m49.5/49.5 kB\u001b[0m \u001b[31m3.2 MB/s\u001b[0m eta \u001b[36m0:00:00\u001b[0m\n",
            "\u001b[?25hDownloading symengine-0.13.0-cp310-cp310-manylinux_2_17_x86_64.manylinux2014_x86_64.whl (49.7 MB)\n",
            "\u001b[2K   \u001b[90m━━━━━━━━━━━━━━━━━━━━━━━━━━━━━━━━━━━━━━━━\u001b[0m \u001b[32m49.7/49.7 MB\u001b[0m \u001b[31m18.4 MB/s\u001b[0m eta \u001b[36m0:00:00\u001b[0m\n",
            "\u001b[?25hDownloading pbr-6.1.0-py2.py3-none-any.whl (108 kB)\n",
            "\u001b[2K   \u001b[90m━━━━━━━━━━━━━━━━━━━━━━━━━━━━━━━━━━━━━━━━\u001b[0m \u001b[32m108.5/108.5 kB\u001b[0m \u001b[31m7.9 MB/s\u001b[0m eta \u001b[36m0:00:00\u001b[0m\n",
            "\u001b[?25hInstalling collected packages: symengine, rustworkx, pbr, dill, stevedore, qiskit\n",
            "Successfully installed dill-0.3.9 pbr-6.1.0 qiskit-1.3.0 rustworkx-0.15.1 stevedore-5.4.0 symengine-0.13.0\n"
          ]
        }
      ]
    },
    {
      "cell_type": "code",
      "source": [
        "#Required imports\n",
        "\n",
        "from qiskit import QuantumCircuit, QuantumRegister, ClassicalRegister #Corrected import: Cl to ClassicalRegister\n",
        "from qiskit_aer import AerSimulator\n",
        "from qiskit.visualization import plot_histogram\n",
        "from qiskit.result import marginal_distribution\n",
        "from qiskit.circuit.library import UGate\n",
        "from numpy import pi, random"
      ],
      "metadata": {
        "colab": {
          "base_uri": "https://localhost:8080/",
          "height": 401
        },
        "id": "xPp5OXBhoT0X",
        "outputId": "86ebb6aa-058d-42f4-9aa6-273ab427cb7e"
      },
      "execution_count": 3,
      "outputs": [
        {
          "output_type": "error",
          "ename": "ModuleNotFoundError",
          "evalue": "No module named 'qiskit_aer'",
          "traceback": [
            "\u001b[0;31m---------------------------------------------------------------------------\u001b[0m",
            "\u001b[0;31mModuleNotFoundError\u001b[0m                       Traceback (most recent call last)",
            "\u001b[0;32m<ipython-input-3-1413833827e2>\u001b[0m in \u001b[0;36m<cell line: 4>\u001b[0;34m()\u001b[0m\n\u001b[1;32m      2\u001b[0m \u001b[0;34m\u001b[0m\u001b[0m\n\u001b[1;32m      3\u001b[0m \u001b[0;32mfrom\u001b[0m \u001b[0mqiskit\u001b[0m \u001b[0;32mimport\u001b[0m \u001b[0mQuantumCircuit\u001b[0m\u001b[0;34m,\u001b[0m \u001b[0mQuantumRegister\u001b[0m\u001b[0;34m,\u001b[0m \u001b[0mClassicalRegister\u001b[0m \u001b[0;31m#Corrected import: Cl to ClassicalRegister\u001b[0m\u001b[0;34m\u001b[0m\u001b[0;34m\u001b[0m\u001b[0m\n\u001b[0;32m----> 4\u001b[0;31m \u001b[0;32mfrom\u001b[0m \u001b[0mqiskit_aer\u001b[0m \u001b[0;32mimport\u001b[0m \u001b[0mAerSimulator\u001b[0m\u001b[0;34m\u001b[0m\u001b[0;34m\u001b[0m\u001b[0m\n\u001b[0m\u001b[1;32m      5\u001b[0m \u001b[0;32mfrom\u001b[0m \u001b[0mqiskit\u001b[0m\u001b[0;34m.\u001b[0m\u001b[0mvisualization\u001b[0m \u001b[0;32mimport\u001b[0m \u001b[0mplot_histogram\u001b[0m\u001b[0;34m\u001b[0m\u001b[0;34m\u001b[0m\u001b[0m\n\u001b[1;32m      6\u001b[0m \u001b[0;32mfrom\u001b[0m \u001b[0mqiskit\u001b[0m\u001b[0;34m.\u001b[0m\u001b[0mresult\u001b[0m \u001b[0;32mimport\u001b[0m \u001b[0mmarginal_distribution\u001b[0m\u001b[0;34m\u001b[0m\u001b[0;34m\u001b[0m\u001b[0m\n",
            "\u001b[0;31mModuleNotFoundError\u001b[0m: No module named 'qiskit_aer'",
            "",
            "\u001b[0;31m---------------------------------------------------------------------------\u001b[0;32m\nNOTE: If your import is failing due to a missing package, you can\nmanually install dependencies using either !pip or !apt.\n\nTo view examples of installing some common dependencies, click the\n\"Open Examples\" button below.\n\u001b[0;31m---------------------------------------------------------------------------\u001b[0m\n"
          ],
          "errorDetails": {
            "actions": [
              {
                "action": "open_url",
                "actionText": "Open Examples",
                "url": "/notebooks/snippets/importing_libraries.ipynb"
              }
            ]
          }
        }
      ]
    },
    {
      "cell_type": "code",
      "source": [
        "!pip install qiskit-aer"
      ],
      "metadata": {
        "colab": {
          "base_uri": "https://localhost:8080/"
        },
        "id": "ZeokzhhUohVG",
        "outputId": "41897c63-a8a9-45a2-e49a-01151ee8ffbb"
      },
      "execution_count": 4,
      "outputs": [
        {
          "output_type": "stream",
          "name": "stdout",
          "text": [
            "Collecting qiskit-aer\n",
            "  Downloading qiskit_aer-0.15.1-cp310-cp310-manylinux_2_17_x86_64.manylinux2014_x86_64.whl.metadata (8.0 kB)\n",
            "Requirement already satisfied: qiskit>=1.1.0 in /usr/local/lib/python3.10/dist-packages (from qiskit-aer) (1.3.0)\n",
            "Requirement already satisfied: numpy>=1.16.3 in /usr/local/lib/python3.10/dist-packages (from qiskit-aer) (1.26.4)\n",
            "Requirement already satisfied: scipy>=1.0 in /usr/local/lib/python3.10/dist-packages (from qiskit-aer) (1.13.1)\n",
            "Requirement already satisfied: psutil>=5 in /usr/local/lib/python3.10/dist-packages (from qiskit-aer) (5.9.5)\n",
            "Requirement already satisfied: rustworkx>=0.15.0 in /usr/local/lib/python3.10/dist-packages (from qiskit>=1.1.0->qiskit-aer) (0.15.1)\n",
            "Requirement already satisfied: sympy>=1.3 in /usr/local/lib/python3.10/dist-packages (from qiskit>=1.1.0->qiskit-aer) (1.13.1)\n",
            "Requirement already satisfied: dill>=0.3 in /usr/local/lib/python3.10/dist-packages (from qiskit>=1.1.0->qiskit-aer) (0.3.9)\n",
            "Requirement already satisfied: python-dateutil>=2.8.0 in /usr/local/lib/python3.10/dist-packages (from qiskit>=1.1.0->qiskit-aer) (2.8.2)\n",
            "Requirement already satisfied: stevedore>=3.0.0 in /usr/local/lib/python3.10/dist-packages (from qiskit>=1.1.0->qiskit-aer) (5.4.0)\n",
            "Requirement already satisfied: typing-extensions in /usr/local/lib/python3.10/dist-packages (from qiskit>=1.1.0->qiskit-aer) (4.12.2)\n",
            "Requirement already satisfied: symengine<0.14,>=0.11 in /usr/local/lib/python3.10/dist-packages (from qiskit>=1.1.0->qiskit-aer) (0.13.0)\n",
            "Requirement already satisfied: six>=1.5 in /usr/local/lib/python3.10/dist-packages (from python-dateutil>=2.8.0->qiskit>=1.1.0->qiskit-aer) (1.16.0)\n",
            "Requirement already satisfied: pbr>=2.0.0 in /usr/local/lib/python3.10/dist-packages (from stevedore>=3.0.0->qiskit>=1.1.0->qiskit-aer) (6.1.0)\n",
            "Requirement already satisfied: mpmath<1.4,>=1.1.0 in /usr/local/lib/python3.10/dist-packages (from sympy>=1.3->qiskit>=1.1.0->qiskit-aer) (1.3.0)\n",
            "Downloading qiskit_aer-0.15.1-cp310-cp310-manylinux_2_17_x86_64.manylinux2014_x86_64.whl (12.3 MB)\n",
            "\u001b[2K   \u001b[90m━━━━━━━━━━━━━━━━━━━━━━━━━━━━━━━━━━━━━━━━\u001b[0m \u001b[32m12.3/12.3 MB\u001b[0m \u001b[31m83.8 MB/s\u001b[0m eta \u001b[36m0:00:00\u001b[0m\n",
            "\u001b[?25hInstalling collected packages: qiskit-aer\n",
            "Successfully installed qiskit-aer-0.15.1\n"
          ]
        }
      ]
    },
    {
      "cell_type": "code",
      "source": [
        "#Required imports\n",
        "\n",
        "from qiskit import QuantumCircuit, QuantumRegister, ClassicalRegister #Corrected import: Cl to ClassicalRegister\n",
        "from qiskit_aer import AerSimulator\n",
        "from qiskit.visualization import plot_histogram\n",
        "from qiskit.result import marginal_distribution\n",
        "from qiskit.circuit.library import UGate\n",
        "from numpy import pi, random"
      ],
      "metadata": {
        "id": "ePEfDRnVonDW"
      },
      "execution_count": 5,
      "outputs": []
    },
    {
      "cell_type": "code",
      "source": [
        "# Implementação de circuito quântico do protocolo de teletransporte.\n",
        "\n",
        "qubit = QuantumRegister(1, \"Q\")\n",
        "ebit0 = QuantumRegister(1, \"A\")\n",
        "ebit1 = QuantumRegister(1, \"B\")\n",
        "a = ClassicalRegister (1, \"a\")\n",
        "b = ClassicalRegister (1, \"b\")\n",
        "\n",
        "protocol = QuantumCircuit (qubit, ebit0, ebit1, a, b)\n",
        "\n",
        "##Prepara o ebit usado para teletransporte\n",
        "protocol.h(ebit0)\n",
        "protocol.cx(ebit0, ebit1)\n",
        "protocol.cx(qubit, ebit1)\n",
        "protocol.barrier()\n",
        "\n",
        "## Operações de Alice\n",
        "protocol.cx(qubit, ebit0)\n",
        "protocol.h(qubit)\n",
        "protocol.barrier()\n",
        "\n",
        "## # Alice mede e envia bits clássicos para Bob\n",
        "protocol.measure(ebit0, a)\n",
        "protocol.measure(qubit, b)\n",
        "protocol.barrier()\n",
        "\n",
        "## Bob usa os bits clássicos para aplicar condicionalmente\n",
        "with protocol.if_test ((a, 1)):\n",
        "  protocol.x(ebit1)\n",
        "with protocol.if_test ((b, 1)):\n",
        "  protocol.z(ebit1)\n",
        "\n",
        "display (protocol.draw())\n",
        "\n",
        "\n"
      ],
      "metadata": {
        "colab": {
          "base_uri": "https://localhost:8080/",
          "height": 371
        },
        "id": "yqEZP3d-oqEQ",
        "outputId": "29c3a5aa-a129-405b-fb01-38575057b729"
      },
      "execution_count": 7,
      "outputs": [
        {
          "output_type": "display_data",
          "data": {
            "text/plain": [
              "                     ░      ┌───┐ ░    ┌─┐ ░                                »\n",
              "  Q: ────────────■───░───■──┤ H ├─░────┤M├─░────────────────────────────────»\n",
              "     ┌───┐       │   ░ ┌─┴─┐└───┘ ░ ┌─┐└╥┘ ░                                »\n",
              "  A: ┤ H ├──■────┼───░─┤ X ├──────░─┤M├─╫──░────────────────────────────────»\n",
              "     └───┘┌─┴─┐┌─┴─┐ ░ └───┘      ░ └╥┘ ║  ░ ┌────── ┌───┐ ───────┐ ┌────── »\n",
              "  B: ─────┤ X ├┤ X ├─░────────────░──╫──╫──░─┤ If-0  ┤ X ├  End-0 ├─┤ If-0  »\n",
              "          └───┘└───┘ ░            ░  ║  ║  ░ └──╥─── └───┘ ───────┘ └──╥─── »\n",
              "                                     ║  ║    ┌──╨──┐                   ║    »\n",
              "a: 1/════════════════════════════════╩══╬════╡ 0x1 ╞═══════════════════╬════»\n",
              "                                     0  ║    └─────┘                ┌──╨──┐ »\n",
              "b: 1/═══════════════════════════════════╩═══════════════════════════╡ 0x1 ╞═»\n",
              "                                        0                           └─────┘ »\n",
              "«                    \n",
              "«  Q: ───────────────\n",
              "«                    \n",
              "«  A: ───────────────\n",
              "«     ┌───┐ ───────┐ \n",
              "«  B: ┤ Z ├  End-0 ├─\n",
              "«     └───┘ ───────┘ \n",
              "«a: 1/═══════════════\n",
              "«                    \n",
              "«b: 1/═══════════════\n",
              "«                    "
            ],
            "text/html": [
              "<pre style=\"word-wrap: normal;white-space: pre;background: #fff0;line-height: 1.1;font-family: &quot;Courier New&quot;,Courier,monospace\">                     ░      ┌───┐ ░    ┌─┐ ░                                »\n",
              "  Q: ────────────■───░───■──┤ H ├─░────┤M├─░────────────────────────────────»\n",
              "     ┌───┐       │   ░ ┌─┴─┐└───┘ ░ ┌─┐└╥┘ ░                                »\n",
              "  A: ┤ H ├──■────┼───░─┤ X ├──────░─┤M├─╫──░────────────────────────────────»\n",
              "     └───┘┌─┴─┐┌─┴─┐ ░ └───┘      ░ └╥┘ ║  ░ ┌────── ┌───┐ ───────┐ ┌────── »\n",
              "  B: ─────┤ X ├┤ X ├─░────────────░──╫──╫──░─┤ If-0  ┤ X ├  End-0 ├─┤ If-0  »\n",
              "          └───┘└───┘ ░            ░  ║  ║  ░ └──╥─── └───┘ ───────┘ └──╥─── »\n",
              "                                     ║  ║    ┌──╨──┐                   ║    »\n",
              "a: 1/════════════════════════════════╩══╬════╡ 0x1 ╞═══════════════════╬════»\n",
              "                                     0  ║    └─────┘                ┌──╨──┐ »\n",
              "b: 1/═══════════════════════════════════╩═══════════════════════════╡ 0x1 ╞═»\n",
              "                                        0                           └─────┘ »\n",
              "«                    \n",
              "«  Q: ───────────────\n",
              "«                    \n",
              "«  A: ───────────────\n",
              "«     ┌───┐ ───────┐ \n",
              "«  B: ┤ Z ├  End-0 ├─\n",
              "«     └───┘ ───────┘ \n",
              "«a: 1/═══════════════\n",
              "«                    \n",
              "«b: 1/═══════════════\n",
              "«                    </pre>"
            ]
          },
          "metadata": {}
        }
      ]
    },
    {
      "cell_type": "code",
      "source": [
        "#escolhendo uma porta de qubit unitária.\n",
        "\n",
        "random_gate = UGate(theta=random.random() * 2 * pi, phi=random.random() * 2 * pi, lam=random.random()\n",
        " * 2 * pi)\n",
        "\n",
        "display (random_gate.to_matrix())"
      ],
      "metadata": {
        "colab": {
          "base_uri": "https://localhost:8080/",
          "height": 52
        },
        "id": "LHiFVhDorW6F",
        "outputId": "d683c195-1601-49a6-a3dd-f266eb1354d6"
      },
      "execution_count": 8,
      "outputs": [
        {
          "output_type": "display_data",
          "data": {
            "text/plain": [
              "array([[-0.99234848+0.j        , -0.06563359+0.10457881j],\n",
              "       [-0.05910368-0.10840318j,  0.99048461+0.06079258j]])"
            ]
          },
          "metadata": {}
        }
      ]
    },
    {
      "cell_type": "code",
      "source": [
        "# Cria um novo circuito incluindo os mesmos bits que\n",
        "# protocolo de teletransporte.\n",
        "\n",
        "test = QuantumCircuit(qubit, ebit0, ebit1, a, b)"
      ],
      "metadata": {
        "id": "qtP8ftDlr_u9"
      },
      "execution_count": 9,
      "outputs": []
    },
    {
      "cell_type": "code",
      "source": [
        "# Comece com o portão selecionado aleatoriamente em Q\n",
        "test.append(random_gate, qubit)\n",
        "test.barrier()"
      ],
      "metadata": {
        "colab": {
          "base_uri": "https://localhost:8080/"
        },
        "id": "FlnJPao0sSbl",
        "outputId": "0c2f6d5e-7629-419e-e4a4-770426ed45fb"
      },
      "execution_count": 10,
      "outputs": [
        {
          "output_type": "execute_result",
          "data": {
            "text/plain": [
              "CircuitInstruction(operation=Instruction(name='barrier', num_qubits=3, num_clbits=0, params=[]), qubits=(Qubit(QuantumRegister(1, 'Q'), 0), Qubit(QuantumRegister(1, 'A'), 0), Qubit(QuantumRegister(1, 'B'), 0)), clbits=())"
            ]
          },
          "metadata": {},
          "execution_count": 10
        }
      ]
    },
    {
      "cell_type": "code",
      "source": [
        "# Anexe todo o protocolo de teletransporte acima\n",
        "\n",
        "test = test.compose(protocol)\n",
        "test.barrier()"
      ],
      "metadata": {
        "colab": {
          "base_uri": "https://localhost:8080/"
        },
        "id": "GeKu4spnsX8k",
        "outputId": "6fcef0f3-80d8-4e3c-b50c-bc1992f228a8"
      },
      "execution_count": 11,
      "outputs": [
        {
          "output_type": "execute_result",
          "data": {
            "text/plain": [
              "CircuitInstruction(operation=Instruction(name='barrier', num_qubits=3, num_clbits=0, params=[]), qubits=(Qubit(QuantumRegister(1, 'Q'), 0), Qubit(QuantumRegister(1, 'A'), 0), Qubit(QuantumRegister(1, 'B'), 0)), clbits=())"
            ]
          },
          "metadata": {},
          "execution_count": 11
        }
      ]
    },
    {
      "cell_type": "code",
      "source": [
        "# Finalmente, aplique o inverso do unitário aleatório para\n",
        "test.append(random_gate.inverse(), ebit1)\n",
        "result = ClassicalRegister(1, \"Result\")\n",
        "test.add_register(result)\n",
        "test.measure(ebit1, result)\n",
        "display(test.draw())"
      ],
      "metadata": {
        "colab": {
          "base_uri": "https://localhost:8080/",
          "height": 633
        },
        "id": "rfeovA2YskR0",
        "outputId": "be85337c-7fdc-459a-e690-cfca7f37eab7"
      },
      "execution_count": 12,
      "outputs": [
        {
          "output_type": "display_data",
          "data": {
            "text/plain": [
              "          ┌─────────────────────────┐ ░                 ░      ┌───┐ ░    ┌─┐»\n",
              "       Q: ┤ U(6.0356,4.2132,5.2729) ├─░─────────────■───░───■──┤ H ├─░────┤M├»\n",
              "          └─────────────────────────┘ ░ ┌───┐       │   ░ ┌─┴─┐└───┘ ░ ┌─┐└╥┘»\n",
              "       A: ────────────────────────────░─┤ H ├──■────┼───░─┤ X ├──────░─┤M├─╫─»\n",
              "                                      ░ └───┘┌─┴─┐┌─┴─┐ ░ └───┘      ░ └╥┘ ║ »\n",
              "       B: ────────────────────────────░──────┤ X ├┤ X ├─░────────────░──╫──╫─»\n",
              "                                      ░      └───┘└───┘ ░            ░  ║  ║ »\n",
              "     a: 1/══════════════════════════════════════════════════════════════╩══╬═»\n",
              "                                                                        0  ║ »\n",
              "     b: 1/═════════════════════════════════════════════════════════════════╩═»\n",
              "                                                                           0 »\n",
              "Result: 1/═══════════════════════════════════════════════════════════════════»\n",
              "                                                                             »\n",
              "«           ░                                                ░ »\n",
              "«       Q: ─░────────────────────────────────────────────────░─»\n",
              "«           ░                                                ░ »\n",
              "«       A: ─░────────────────────────────────────────────────░─»\n",
              "«           ░ ┌────── ┌───┐ ───────┐ ┌────── ┌───┐ ───────┐  ░ »\n",
              "«       B: ─░─┤ If-0  ┤ X ├  End-0 ├─┤ If-0  ┤ Z ├  End-0 ├──░─»\n",
              "«           ░ └──╥─── └───┘ ───────┘ └──╥─── └───┘ ───────┘  ░ »\n",
              "«             ┌──╨──┐                   ║                      »\n",
              "«     a: 1/═══╡ 0x1 ╞═══════════════════╬══════════════════════»\n",
              "«             └─────┘                ┌──╨──┐                   »\n",
              "«     b: 1/══════════════════════════╡ 0x1 ╞═══════════════════»\n",
              "«                                    └─────┘                   »\n",
              "«Result: 1/════════════════════════════════════════════════════»\n",
              "«                                                              »\n",
              "«                                           \n",
              "«       Q: ─────────────────────────────────\n",
              "«                                           \n",
              "«       A: ─────────────────────────────────\n",
              "«          ┌────────────────────────────┐┌─┐\n",
              "«       B: ┤ U(-6.0356,-5.2729,-4.2132) ├┤M├\n",
              "«          └────────────────────────────┘└╥┘\n",
              "«     a: 1/═══════════════════════════════╬═\n",
              "«                                         ║ \n",
              "«     b: 1/═══════════════════════════════╬═\n",
              "«                                         ║ \n",
              "«Result: 1/═══════════════════════════════╩═\n",
              "«                                         0 "
            ],
            "text/html": [
              "<pre style=\"word-wrap: normal;white-space: pre;background: #fff0;line-height: 1.1;font-family: &quot;Courier New&quot;,Courier,monospace\">          ┌─────────────────────────┐ ░                 ░      ┌───┐ ░    ┌─┐»\n",
              "       Q: ┤ U(6.0356,4.2132,5.2729) ├─░─────────────■───░───■──┤ H ├─░────┤M├»\n",
              "          └─────────────────────────┘ ░ ┌───┐       │   ░ ┌─┴─┐└───┘ ░ ┌─┐└╥┘»\n",
              "       A: ────────────────────────────░─┤ H ├──■────┼───░─┤ X ├──────░─┤M├─╫─»\n",
              "                                      ░ └───┘┌─┴─┐┌─┴─┐ ░ └───┘      ░ └╥┘ ║ »\n",
              "       B: ────────────────────────────░──────┤ X ├┤ X ├─░────────────░──╫──╫─»\n",
              "                                      ░      └───┘└───┘ ░            ░  ║  ║ »\n",
              "     a: 1/══════════════════════════════════════════════════════════════╩══╬═»\n",
              "                                                                        0  ║ »\n",
              "     b: 1/═════════════════════════════════════════════════════════════════╩═»\n",
              "                                                                           0 »\n",
              "Result: 1/═══════════════════════════════════════════════════════════════════»\n",
              "                                                                             »\n",
              "«           ░                                                ░ »\n",
              "«       Q: ─░────────────────────────────────────────────────░─»\n",
              "«           ░                                                ░ »\n",
              "«       A: ─░────────────────────────────────────────────────░─»\n",
              "«           ░ ┌────── ┌───┐ ───────┐ ┌────── ┌───┐ ───────┐  ░ »\n",
              "«       B: ─░─┤ If-0  ┤ X ├  End-0 ├─┤ If-0  ┤ Z ├  End-0 ├──░─»\n",
              "«           ░ └──╥─── └───┘ ───────┘ └──╥─── └───┘ ───────┘  ░ »\n",
              "«             ┌──╨──┐                   ║                      »\n",
              "«     a: 1/═══╡ 0x1 ╞═══════════════════╬══════════════════════»\n",
              "«             └─────┘                ┌──╨──┐                   »\n",
              "«     b: 1/══════════════════════════╡ 0x1 ╞═══════════════════»\n",
              "«                                    └─────┘                   »\n",
              "«Result: 1/════════════════════════════════════════════════════»\n",
              "«                                                              »\n",
              "«                                           \n",
              "«       Q: ─────────────────────────────────\n",
              "«                                           \n",
              "«       A: ─────────────────────────────────\n",
              "«          ┌────────────────────────────┐┌─┐\n",
              "«       B: ┤ U(-6.0356,-5.2729,-4.2132) ├┤M├\n",
              "«          └────────────────────────────┘└╥┘\n",
              "«     a: 1/═══════════════════════════════╬═\n",
              "«                                         ║ \n",
              "«     b: 1/═══════════════════════════════╬═\n",
              "«                                         ║ \n",
              "«Result: 1/═══════════════════════════════╩═\n",
              "«                                         0 </pre>"
            ]
          },
          "metadata": {}
        }
      ]
    },
    {
      "cell_type": "code",
      "source": [
        "#executando o simulador Aer neste circuit\n",
        "\n",
        "result = AerSimulator().run(test).result()\n",
        "statistics = result.get_counts()\n",
        "display(plot_histogram(statistics))"
      ],
      "metadata": {
        "colab": {
          "base_uri": "https://localhost:8080/",
          "height": 458
        },
        "id": "DXce0wfCsxM8",
        "outputId": "9d33bb30-ad3c-4699-e2e1-5917bc98d894"
      },
      "execution_count": 13,
      "outputs": [
        {
          "output_type": "display_data",
          "data": {
            "text/plain": [
              "<Figure size 640x480 with 1 Axes>"
            ],
            "image/png": "[encoded data removed]"
          },
          "metadata": {}
        }
      ]
    },
    {
      "cell_type": "code",
      "source": [
        "#filtrando as estatísticas para focar apenas no qubit do resultado do teste.\n",
        "\n",
        "filtered_statistics = marginal_distribution(statistics)\n",
        "display(plot_histogram(filtered_statistics))"
      ],
      "metadata": {
        "colab": {
          "base_uri": "https://localhost:8080/",
          "height": 450
        },
        "id": "9Kz7I9JHt5qt",
        "outputId": "fecc23fc-1d42-4ba6-ac62-a664729667d3"
      },
      "execution_count": 15,
      "outputs": [
        {
          "output_type": "display_data",
          "data": {
            "text/plain": [
              "<Figure size 640x480 with 1 Axes>"
            ],
            "image/png": "[encoded data removed]"
          },
          "metadata": {}
        }
      ]
    },
    {
      "cell_type": "code",
      "source": [],
      "metadata": {
        "id": "pDBP93TCvHEj"
      },
      "execution_count": null,
      "outputs": []
    }
  ]
}